{
 "cells": [
  {
   "cell_type": "markdown",
   "id": "1f6c85ca",
   "metadata": {},
   "source": [
    "# Locally Linear Embedding(LLE)"
   ]
  },
  {
   "cell_type": "markdown",
   "id": "a20b50d6",
   "metadata": {},
   "source": [
    "LLE (Locally Linear Embedding) is a technique used to reduce the number of dimensions in a dataset without losing the important shape or structure of the data. It is an unsupervised method meaning it works without needing labeled data."
   ]
  },
  {
   "cell_type": "markdown",
   "id": "d7755c3a",
   "metadata": {},
   "source": [
    "### How is LLE different from PCA and PDA?\n",
    "| Method                                 | Type                | What it Preserves?                                                                      | When Useful?                                                        |\n",
    "| -------------------------------------- | ------------------- | --------------------------------------------------------------------------------------- | ------------------------------------------------------------------- |\n",
    "| **PCA** (Principal Component Analysis) | Linear              | Global variance (maximizes variance directions)                                         | Good for compression, noise reduction, linear data                  |\n",
    "| **LDA** (Linear Discriminant Analysis) | Linear (supervised) | Class separability (maximizes distance between classes, minimizes intra-class variance) | Classification tasks with labels                                    |\n",
    "| **LLE** (Locally Linear Embedding)     | Nonlinear           | Local geometry of neighborhoods                                                         | Nonlinear manifolds, visualization, unsupervised feature extraction |\n",
    "\n",
    "## Quick Comparison Recap\n",
    "\n",
    "- PCA: Keeps the directions with biggest variance (spread).\n",
    "\n",
    "- LDA: Keeps the directions that best separate groups (supervised).\n",
    "\n",
    "- LLE: Keeps the neighborhood relationships on curved manifolds (nonlinear)."
   ]
  },
  {
   "cell_type": "markdown",
   "id": "7e238458",
   "metadata": {},
   "source": [
    "## Math\n",
    "\n",
    "### Goal: \n",
    "Reconstruct 𝑥𝑖 from its 𝑘 nearest neighbors using weights 𝑤𝑖j that sum to 1 (affine constraint). This preserves local (neighborhood) shape.\n",
    "\n",
    "### Step 1\n",
    "- Find neighbors\n",
    "- Look at the closest 𝑘 points."
   ]
  },
  {
   "cell_type": "code",
   "execution_count": 43,
   "id": "0ce6f618",
   "metadata": {},
   "outputs": [],
   "source": [
    "import numpy as np\n",
    "from scipy.spatial.distance import cdist\n",
    "\n",
    "# Given points\n",
    "points = np.array([\n",
    "    [0, 0],      # X1\n",
    "    [2, 0],      # X2\n",
    "    [0, 3],      # X3\n",
    "    [1, 1.5],    # X4\n",
    "    [0.2, 0.5]   # X5\n",
    "])\n",
    "\n",
    "k = 2  # number of neighbours"
   ]
  },
  {
   "cell_type": "code",
   "execution_count": 44,
   "id": "50011af7",
   "metadata": {},
   "outputs": [
    {
     "name": "stdout",
     "output_type": "stream",
     "text": [
      "[[0.         2.         3.         1.80277564 0.53851648]\n",
      " [2.         0.         3.60555128 1.80277564 1.86815417]\n",
      " [3.         3.60555128 0.         1.80277564 2.50798724]\n",
      " [1.80277564 1.80277564 1.80277564 0.         1.28062485]\n",
      " [0.53851648 1.86815417 2.50798724 1.28062485 0.        ]]\n"
     ]
    }
   ],
   "source": [
    "# Step 1: Compute pairwise Euclidean distances\n",
    "dist_matrix = cdist(points, points, metric='euclidean')\n",
    "print(dist_matrix)"
   ]
  },
  {
   "cell_type": "code",
   "execution_count": 45,
   "id": "7c25ba5b",
   "metadata": {},
   "outputs": [
    {
     "name": "stdout",
     "output_type": "stream",
     "text": [
      "Nearest neighbors for each point:\n",
      "X1: ['X5', 'X4']\n",
      "X2: ['X4', 'X5']\n",
      "X3: ['X4', 'X5']\n",
      "X4: ['X5', 'X1']\n",
      "X5: ['X1', 'X4']\n"
     ]
    }
   ],
   "source": [
    "# Step 2: Identify k-nearest neighbours for each point\n",
    "neighbors = {}\n",
    "for i in range(len(points)):\n",
    "    sorted_idx = np.argsort(dist_matrix[i])\n",
    "    neighbors[i] = sorted_idx[1:k+1]  # skip itself (index 0 in sorted list)\n",
    "\n",
    "print(\"Nearest neighbors for each point:\")\n",
    "for i, nbrs in neighbors.items():\n",
    "    print(f\"X{i+1}: {[f'X{j+1}' for j in nbrs]}\")"
   ]
  },
  {
   "cell_type": "markdown",
   "id": "0b4277cb",
   "metadata": {},
   "source": [
    "### Step 2: Building Covariance Matrix\n",
    "\n",
    "For each point 𝑥𝑖:\n",
    "\n",
    "- We have already chosen its 𝑘 nearest neighbors.\n",
    "- Now we “shift” those neighbors so that 𝑥𝑖 itself is at the origin.\n",
    "- This means subtracting 𝑥𝑖 from each neighbor: \n",
    "  \n",
    "𝑧𝑗 = 𝑥𝑗 − 𝑥𝑖\n",
    "  \n",
    "- Stack these shifted vectors into a matrix 𝑍.\n",
    "- Z has shape (𝐷,𝑘), where 𝐷 is the dimension (2 here) and 𝑘 is the number of neighbors. Each column of 𝑍 is one shifted neighbor.\n",
    "\n",
    "C=Z⊤Z.\n",
    "  \n",
    "It’s called the Gram matrix or local covariance matrix in LLE. Each entry in 𝐶 is just a dot product between two shifted neighbor vectors."
   ]
  },
  {
   "cell_type": "code",
   "execution_count": null,
   "id": "f55b7385",
   "metadata": {},
   "outputs": [
    {
     "name": "stdout",
     "output_type": "stream",
     "text": [
      "\n",
      "Point X1:\n",
      "  Neighbors: ['X5', 'X4']\n",
      "  Weights: [ 1.40243902 -0.40243902]\n",
      "  Reconstructed: [-0.12195122  0.09756098]\n",
      "  Original: [0. 0.]\n",
      "  Error: 0.156174\n",
      "\n",
      "Point X2:\n",
      "  Neighbors: ['X4', 'X5']\n",
      "  Weights: [0.57317073 0.42682927]\n",
      "  Reconstructed: [0.65853659 1.07317073]\n",
      "  Original: [2. 0.]\n",
      "  Error: 1.717911\n",
      "\n",
      "Point X3:\n",
      "  Neighbors: ['X4', 'X5']\n",
      "  Weights: [ 1.42682927 -0.42682927]\n",
      "  Reconstructed: [1.34146341 1.92682927]\n",
      "  Original: [0. 3.]\n",
      "  Error: 1.717911\n",
      "\n",
      "Point X4:\n",
      "  Neighbors: ['X5', 'X1']\n",
      "  Weights: [ 3.27586207 -2.27586207]\n",
      "  Reconstructed: [0.65517241 1.63793103]\n",
      "  Original: [1.  1.5]\n",
      "  Error: 0.371391\n",
      "\n",
      "Point X5:\n",
      "  Neighbors: ['X1', 'X4']\n",
      "  Weights: [0.70769231 0.29230769]\n",
      "  Reconstructed: [0.29230769 0.43846154]\n",
      "  Original: [0.2 0.5]\n",
      "  Error: 0.110940\n"
     ]
    }
   ],
   "source": [
    "for i in range(len(points)):\n",
    "    xi = points[i]\n",
    "    nbr_idx = neighbors[i]\n",
    "    nbr_points = points[nbr_idx]\n",
    "\n",
    "    # Shifted neighbors\n",
    "    Z = (nbr_points - xi).T  # shape (2, k)\n",
    "\n",
    "    # Local covariance matrix\n",
    "    C = Z.T @ Z\n",
    "\n",
    "    # Regularization (to avoid singular matrix issues)\n",
    "    # C += 1e-3 * np.trace(C) * np.eye(k)\n",
    "\n",
    "    # Solve for weights\n",
    "    ones = np.ones(k)\n",
    "    w = np.linalg.solve(C, ones)\n",
    "    w = w / np.sum(w)  # normalize to satisfy sum(w)=1\n",
    "\n",
    "    all_weights[f\"X{i+1}\"] = (nbr_idx, w)\n",
    "\n",
    "    # Verification\n",
    "    xi_reconstructed = np.dot(w, nbr_points)\n",
    "    error = np.linalg.norm(xi - xi_reconstructed)\n",
    "\n",
    "    print(f\"\\nPoint X{i+1}:\")\n",
    "    print(f\"  Neighbors: {[f'X{j+1}' for j in nbr_idx]}\")\n",
    "    print(f\"  Weights: {w}\")\n",
    "    print(f\"  Reconstructed: {xi_reconstructed}\")\n",
    "    print(f\"  Original: {xi}\")\n",
    "    print(f\"  Error: {error:.6f}\")"
   ]
  },
  {
   "cell_type": "code",
   "execution_count": null,
   "id": "85edd3d2",
   "metadata": {},
   "outputs": [],
   "source": []
  }
 ],
 "metadata": {
  "kernelspec": {
   "display_name": "Python 3",
   "language": "python",
   "name": "python3"
  },
  "language_info": {
   "codemirror_mode": {
    "name": "ipython",
    "version": 3
   },
   "file_extension": ".py",
   "mimetype": "text/x-python",
   "name": "python",
   "nbconvert_exporter": "python",
   "pygments_lexer": "ipython3",
   "version": "3.12.2"
  }
 },
 "nbformat": 4,
 "nbformat_minor": 5
}
