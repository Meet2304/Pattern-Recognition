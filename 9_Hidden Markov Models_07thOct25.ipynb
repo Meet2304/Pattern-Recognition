{
 "cells": [
  {
   "cell_type": "markdown",
   "id": "3c49ca00",
   "metadata": {},
   "source": [
    "# Hidden Markov Models"
   ]
  },
  {
   "cell_type": "markdown",
   "id": "4c0af45b",
   "metadata": {},
   "source": [
    "### Explanation\n",
    "\n",
    "- π (Initial probabilities) — how likely the day starts Sunny or Rainy.\n",
    "\n",
    "- A (Transition matrix) — probability of switching between Sunny/Rainy.\n",
    "\n",
    "- B (Emission matrix) — probability of each activity given the weather.\n",
    "\n",
    "Forward algorithm — computes how likely the given observation sequence is, by summing probabilities over all possible state paths.\n",
    "\n",
    "Interpretation — the final state probabilities tell us which weather is more likely given the observed actions."
   ]
  },
  {
   "cell_type": "code",
   "execution_count": 1,
   "id": "3275aa78",
   "metadata": {},
   "outputs": [
    {
     "name": "stdout",
     "output_type": "stream",
     "text": [
      "Forward Probability Table (α):\n",
      " [[0.3      0.04    ]\n",
      " [0.0904   0.0342  ]\n",
      " [0.007696 0.028584]]\n",
      "\n",
      "Likelihood of the observation sequence: 0.03628\n",
      "\n",
      "The model predicts the weather is more likely to be Rainy.\n"
     ]
    }
   ],
   "source": [
    "import numpy as np\n",
    "\n",
    "# Hidden states\n",
    "states = ['Sunny', 'Rainy']\n",
    "\n",
    "# Possible observations\n",
    "observations = ['Walk', 'Shop', 'Clean']\n",
    "\n",
    "# Observation sequence to evaluate\n",
    "obs_sequence = ['Walk', 'Shop', 'Clean']\n",
    "\n",
    "# Initial probabilities (π)\n",
    "pi = np.array([0.6, 0.4])   # P(Sunny)=0.6, P(Rainy)=0.4\n",
    "\n",
    "# Transition matrix (A)\n",
    "# Rows: from state, Columns: to state\n",
    "A = np.array([\n",
    "    [0.7, 0.3],  # Sunny → Sunny, Rainy\n",
    "    [0.4, 0.6]   # Rainy → Sunny, Rainy\n",
    "])\n",
    "\n",
    "# Emission matrix (B)\n",
    "# Rows: states, Columns: observations\n",
    "B = np.array([\n",
    "    [0.5, 0.4, 0.1],  # Sunny → Walk, Shop, Clean\n",
    "    [0.1, 0.3, 0.6]   # Rainy → Walk, Shop, Clean\n",
    "])\n",
    "\n",
    "# Map observations to indices\n",
    "obs_index = [observations.index(o) for o in obs_sequence]\n",
    "\n",
    "# ---- Forward Algorithm ----\n",
    "T = len(obs_sequence)\n",
    "N = len(states)\n",
    "alpha = np.zeros((T, N))\n",
    "\n",
    "# Initialization\n",
    "alpha[0, :] = pi * B[:, obs_index[0]]\n",
    "\n",
    "# Induction\n",
    "for t in range(1, T):\n",
    "    for j in range(N):\n",
    "        alpha[t, j] = np.sum(alpha[t-1, :] * A[:, j]) * B[j, obs_index[t]]\n",
    "\n",
    "# Termination: likelihood of the observation sequence\n",
    "likelihood = np.sum(alpha[-1, :])\n",
    "\n",
    "# ---- Output ----\n",
    "print(\"Forward Probability Table (α):\\n\", alpha)\n",
    "print(\"\\nLikelihood of the observation sequence:\", likelihood)\n",
    "\n",
    "# Interpret result\n",
    "if alpha[-1, 0] > alpha[-1, 1]:\n",
    "    print(\"\\nThe model predicts the weather is more likely to be Sunny.\")\n",
    "else:\n",
    "    print(\"\\nThe model predicts the weather is more likely to be Rainy.\")\n"
   ]
  },
  {
   "cell_type": "code",
   "execution_count": null,
   "id": "73f3cdea",
   "metadata": {},
   "outputs": [],
   "source": []
  }
 ],
 "metadata": {
  "kernelspec": {
   "display_name": "Python 3",
   "language": "python",
   "name": "python3"
  },
  "language_info": {
   "codemirror_mode": {
    "name": "ipython",
    "version": 3
   },
   "file_extension": ".py",
   "mimetype": "text/x-python",
   "name": "python",
   "nbconvert_exporter": "python",
   "pygments_lexer": "ipython3",
   "version": "3.12.10"
  }
 },
 "nbformat": 4,
 "nbformat_minor": 5
}
